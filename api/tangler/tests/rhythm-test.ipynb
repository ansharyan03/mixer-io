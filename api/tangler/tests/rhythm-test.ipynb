{
 "cells": [
  {
   "cell_type": "code",
   "execution_count": null,
   "id": "2bd102d3",
   "metadata": {},
   "outputs": [],
   "source": [
    "import os\n",
    "import sys\n",
    "module_path = os.path.abspath(os.path.join('..'))\n",
    "sys.path.append(module_path)\n",
    "\n",
    "from utils.audio_proc import AudioWrapper\n",
    "import matplotlib.pyplot as plt\n",
    "import IPython.display as ipd\n",
    "import librosa as lr\n",
    "import numpy as np\n"
   ]
  },
  {
   "cell_type": "code",
   "execution_count": null,
   "id": "47a6d4ef",
   "metadata": {},
   "outputs": [],
   "source": [
    "name1 = 'bleh.mp3'\n",
    "name2 = 'hard.mp3'"
   ]
  },
  {
   "cell_type": "code",
   "execution_count": null,
   "id": "8be23d81",
   "metadata": {},
   "outputs": [],
   "source": [
    "data, sr = lr.load('input/' + name1, sr=44100)\n",
    "ipd.Audio(data=data, rate=sr)"
   ]
  },
  {
   "cell_type": "code",
   "execution_count": null,
   "id": "ca184101",
   "metadata": {},
   "outputs": [],
   "source": [
    "audio = AudioWrapper(path='input/bleh.mp3', sr=44100)\n",
    "# audio.cut(3.031984)\n",
    "audio.split()\n"
   ]
  },
  {
   "cell_type": "code",
   "execution_count": null,
   "id": "18c6d03a",
   "metadata": {},
   "outputs": [],
   "source": [
    "test, idx = lr.effects.trim(audio.instrumental, top_db=48)\n",
    "print(idx)\n",
    "ipd.Audio(data=test, rate=44100)\n",
    "# lr.display.waveshow(y=test, sr=44100)"
   ]
  },
  {
   "cell_type": "code",
   "execution_count": null,
   "id": "dbf582a2",
   "metadata": {},
   "outputs": [],
   "source": [
    "audio.analyze()\n",
    "# audio.cut(np.float32(-0.5))\n",
    "# audio.analyze()\n",
    "audio.analyze_tempocnn()"
   ]
  },
  {
   "cell_type": "code",
   "execution_count": null,
   "id": "9c3bfe12",
   "metadata": {},
   "outputs": [],
   "source": [
    "audio.bpm"
   ]
  },
  {
   "cell_type": "code",
   "execution_count": null,
   "id": "3fe675bd",
   "metadata": {},
   "outputs": [],
   "source": [
    "fig = plt.figure()\n",
    "print(audio.beats)\n",
    "plt.vlines(x=audio.beats, ymin=-1, ymax=1, colors=['red'])\n",
    "lr.display.waveshow(lr.effects.trim(audio.instrumental, top_db=47)[0], sr=44100)\n",
    "plt.xlim((0, 10))\n",
    "plt.ylim((-1, 1))\n"
   ]
  },
  {
   "cell_type": "code",
   "execution_count": null,
   "id": "2dacbfa3",
   "metadata": {},
   "outputs": [],
   "source": [
    "import essentia.standard as es\n",
    "from tempfile import TemporaryDirectory\n",
    "\n",
    "# Mark beat positions in the audio and write it to a file.\n",
    "# Use beeps instead of white noise to mark them, as it is more distinctive.\n",
    "marker = es.AudioOnsetsMarker(onsets=(audio.beats).astype(np.float32), type='beep')\n",
    "print(audio.beats)\n",
    "print(type(audio.data), type(data))\n",
    "marked_audio = marker(np.mean(audio.data, axis=0))\n",
    "\n",
    "# Write to an audio file in a temporaary directory.\n",
    "temp_dir = TemporaryDirectory()\n",
    "es.MonoWriter(filename=temp_dir.name + '/dubstep_beats.flac')(marked_audio)\n",
    "ipd.Audio(temp_dir.name + '/dubstep_beats.flac')\n",
    "\n",
    "#bring both beat grids to 0 saving the offset, find scale factor.\n",
    "#multiply offset and scale beat grid by scale factor\n",
    "#calculate offset differences\n",
    "#convert offset to samples\n",
    "#fill in 0 samples before the shorter offset track"
   ]
  },
  {
   "cell_type": "code",
   "execution_count": null,
   "id": "f39462ec",
   "metadata": {},
   "outputs": [],
   "source": [
    "audio2 = AudioWrapper(path='input/' + name2, sr=44100)\n",
    "audio2.split()\n",
    "audio2.analyze()\n",
    "audio2.analyze_tempocnn()"
   ]
  },
  {
   "cell_type": "code",
   "execution_count": null,
   "id": "7eac8276",
   "metadata": {},
   "outputs": [],
   "source": [
    "def merge_songs(song1: AudioWrapper, song2: AudioWrapper):\n",
    "    print(song1.vocals.shape, song2.vocals.shape)\n",
    "    if song1.vocals.shape[1] > song2.vocals.shape[1]:\n",
    "        song2.vocals = np.append(song2.vocals, np.zeros((2, song1.vocals.shape[1] - song2.vocals.shape[1])), axis=1)\n",
    "        song2.instrumental = np.append(song2.instrumental, np.zeros((2, song1.instrumental.shape[1] - song2.instrumental.shape[1])), axis=1)\n",
    "    else:\n",
    "        song1.vocals = np.append(song1.vocals, np.zeros((2, song2.vocals.shape[1] - song1.vocals.shape[1])), axis=1)\n",
    "        song1.instrumental = np.append(song1.instrumental, np.zeros((2, song2.instrumental.shape[1] - song1.instrumental.shape[1])), axis=1)"
   ]
  },
  {
   "cell_type": "code",
   "execution_count": null,
   "id": "8e8195dd",
   "metadata": {},
   "outputs": [],
   "source": [
    "audio.set_beat_start(threshold=12)\n",
    "beats = (audio.beats - audio.beats[0]) + lr.samples_to_time(audio.beat_start, sr=audio.sr)\n"
   ]
  },
  {
   "cell_type": "code",
   "execution_count": null,
   "id": "f10396b0",
   "metadata": {},
   "outputs": [],
   "source": [
    "audio.stretch_to_other(audio2)\n",
    "merge_songs(audio, audio2)\n",
    "\n",
    "result = np.transpose((audio.instrumental/2) + (audio2.vocals/2))"
   ]
  },
  {
   "cell_type": "code",
   "execution_count": null,
   "id": "c5265027",
   "metadata": {},
   "outputs": [],
   "source": [
    "ipd.Audio(data=np.transpose(result), rate=audio.sr)"
   ]
  },
  {
   "cell_type": "code",
   "execution_count": null,
   "id": "000a2d52",
   "metadata": {},
   "outputs": [],
   "source": [
    "import essentia.standard as es\n",
    "from tempfile import TemporaryDirectory\n",
    "\n",
    "# Mark beat positions in the audio and write it to a file.\n",
    "# Use beeps instead of white noise to mark them, as it is more distinctive.\n",
    "marker = es.AudioOnsetsMarker(onsets=(beats).astype(np.float32), type='beep')\n",
    "marked_audio = marker(np.mean(audio.data, axis=0))\n",
    "\n",
    "# Write to an audio file in a temporaary directory.\n",
    "temp_dir = TemporaryDirectory()\n",
    "es.MonoWriter(filename=temp_dir.name + '/dubstep_beats.flac')(marked_audio)\n",
    "ipd.Audio(temp_dir.name + '/dubstep_beats.flac')\n",
    "\n",
    "#bring both beat grids to 0 saving the offset, find scale factor.\n",
    "#multiply offset and scale beat grid by scale factor\n",
    "#calculate offset differences\n",
    "#convert offset to samples\n",
    "#fill in 0 samples before the shorter offset track"
   ]
  },
  {
   "cell_type": "code",
   "execution_count": null,
   "id": "88eb5849",
   "metadata": {},
   "outputs": [],
   "source": [
    "audio2.set_beat_start(threshold=12)\n",
    "beats = (audio.beats - audio.beats[0]) + lr.samples_to_time(audio.beat_start, sr=audio.sr)"
   ]
  },
  {
   "cell_type": "code",
   "execution_count": null,
   "id": "744b5a31",
   "metadata": {},
   "outputs": [],
   "source": [
    "lr.display.waveshow(y=audio2.instrumental, sr=44100)\n",
    "plt.xlim((0, 5))"
   ]
  },
  {
   "cell_type": "code",
   "execution_count": null,
   "id": "257da969",
   "metadata": {},
   "outputs": [],
   "source": [
    "import essentia.standard as es\n",
    "from tempfile import TemporaryDirectory\n",
    "\n",
    "# Mark beat positions in the audio and write it to a file.\n",
    "# Use beeps instead of white noise to mark them, as it is more distinctive.\n",
    "marker = es.AudioOnsetsMarker(onsets=(beats).astype(np.float32), type='beep')\n",
    "print(beats)\n",
    "marked_audio = marker(np.mean(audio.data, axis=0))\n",
    "\n",
    "# Write to an audio file in a temporaary directory.\n",
    "temp_dir = TemporaryDirectory()\n",
    "es.MonoWriter(filename=temp_dir.name + '/dubstep_beats.flac')(marked_audio)\n",
    "ipd.Audio(temp_dir.name + '/dubstep_beats.flac')\n",
    "\n",
    "#bring both beat grids to 0 saving the offset, find scale factor.\n",
    "#multiply offset and scale beat grid by scale factor\n",
    "#calculate offset differences\n",
    "#convert offset to samples\n",
    "#fill in 0 samples before the shorter offset track"
   ]
  }
 ],
 "metadata": {
  "kernelspec": {
   "display_name": "test",
   "language": "python",
   "name": "python3"
  },
  "language_info": {
   "codemirror_mode": {
    "name": "ipython",
    "version": 3
   },
   "file_extension": ".py",
   "mimetype": "text/x-python",
   "name": "python",
   "nbconvert_exporter": "python",
   "pygments_lexer": "ipython3",
   "version": "3.9.21"
  }
 },
 "nbformat": 4,
 "nbformat_minor": 5
}
